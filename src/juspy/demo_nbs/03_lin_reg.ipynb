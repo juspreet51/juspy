{
 "cells": [
  {
   "cell_type": "code",
   "execution_count": 1,
   "id": "ebcef6f1-454f-4e51-96b0-e3d2238a8b27",
   "metadata": {},
   "outputs": [
    {
     "data": {
      "text/plain": [
       "'0.0.2'"
      ]
     },
     "execution_count": 1,
     "metadata": {},
     "output_type": "execute_result"
    }
   ],
   "source": [
    "import juspy\n",
    "juspy.__version__"
   ]
  },
  {
   "cell_type": "code",
   "execution_count": 2,
   "id": "ae473919-0ff3-41cb-937c-187ae034aef2",
   "metadata": {},
   "outputs": [
    {
     "name": "stdout",
     "output_type": "stream",
     "text": [
      "नमस्ते मित्र\n"
     ]
    }
   ],
   "source": [
    "from juspy import greet\n",
    "greet.namastey()"
   ]
  },
  {
   "cell_type": "code",
   "execution_count": 12,
   "id": "d18103a7-f023-4f10-851f-cf96bb5ff47b",
   "metadata": {},
   "outputs": [],
   "source": [
    "from juspy.linear_models import LinearRegression\n",
    "predictions, rmse = LinearRegression.fit_predict(1,23,45,56)"
   ]
  },
  {
   "cell_type": "code",
   "execution_count": 13,
   "id": "898caf9a-6710-4540-8c6f-ad13436c0114",
   "metadata": {},
   "outputs": [
    {
     "data": {
      "text/plain": [
       "'predictions'"
      ]
     },
     "execution_count": 13,
     "metadata": {},
     "output_type": "execute_result"
    }
   ],
   "source": [
    "predictions"
   ]
  }
 ],
 "metadata": {
  "kernelspec": {
   "display_name": "Python 3 (ipykernel)",
   "language": "python",
   "name": "python3"
  },
  "language_info": {
   "codemirror_mode": {
    "name": "ipython",
    "version": 3
   },
   "file_extension": ".py",
   "mimetype": "text/x-python",
   "name": "python",
   "nbconvert_exporter": "python",
   "pygments_lexer": "ipython3",
   "version": "3.7.4"
  }
 },
 "nbformat": 4,
 "nbformat_minor": 5
}
