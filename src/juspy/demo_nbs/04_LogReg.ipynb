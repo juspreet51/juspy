{
 "cells": [
  {
   "cell_type": "code",
   "execution_count": 1,
   "id": "adaf7a41-41c9-4e00-9889-8e308970d551",
   "metadata": {},
   "outputs": [
    {
     "data": {
      "text/plain": [
       "'0.0.2'"
      ]
     },
     "execution_count": 1,
     "metadata": {},
     "output_type": "execute_result"
    }
   ],
   "source": [
    "import juspy\n",
    "juspy.__version__"
   ]
  },
  {
   "cell_type": "code",
   "execution_count": 2,
   "id": "3304355b-86ed-4580-8a6d-2abae41928af",
   "metadata": {},
   "outputs": [],
   "source": [
    "from juspy.linear_models import LogisticRegression"
   ]
  },
  {
   "cell_type": "code",
   "execution_count": 5,
   "id": "7f5fd43f-a95c-42fa-a63f-fd5c345f6e7d",
   "metadata": {},
   "outputs": [],
   "source": [
    "log_reg = LogisticRegression.LogisticRegression()\n",
    "\n",
    "\n",
    "from sklearn.datasets import load_iris\n",
    "# from sklearn.linear_model import LogisticRegression\n",
    "X, y = load_iris(return_X_y=True)\n",
    "log_reg.fit(X,y)"
   ]
  },
  {
   "cell_type": "code",
   "execution_count": 6,
   "id": "09568faa-3c4a-49ff-8c20-95744d611073",
   "metadata": {},
   "outputs": [
    {
     "data": {
      "text/plain": [
       "[1, 1]"
      ]
     },
     "execution_count": 6,
     "metadata": {},
     "output_type": "execute_result"
    }
   ],
   "source": [
    "log_reg.predict(X[:2, :])"
   ]
  }
 ],
 "metadata": {
  "kernelspec": {
   "display_name": "Python 3 (ipykernel)",
   "language": "python",
   "name": "python3"
  },
  "language_info": {
   "codemirror_mode": {
    "name": "ipython",
    "version": 3
   },
   "file_extension": ".py",
   "mimetype": "text/x-python",
   "name": "python",
   "nbconvert_exporter": "python",
   "pygments_lexer": "ipython3",
   "version": "3.9.7"
  }
 },
 "nbformat": 4,
 "nbformat_minor": 5
}
