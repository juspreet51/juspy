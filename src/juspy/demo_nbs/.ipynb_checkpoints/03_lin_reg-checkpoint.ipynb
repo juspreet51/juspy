{
 "cells": [
  {
   "cell_type": "code",
   "execution_count": 1,
   "id": "ebcef6f1-454f-4e51-96b0-e3d2238a8b27",
   "metadata": {},
   "outputs": [
    {
     "data": {
      "text/plain": [
       "'0.0.2'"
      ]
     },
     "execution_count": 1,
     "metadata": {},
     "output_type": "execute_result"
    }
   ],
   "source": [
    "import juspy\n",
    "juspy.__version__"
   ]
  },
  {
   "cell_type": "code",
   "execution_count": 2,
   "id": "ae473919-0ff3-41cb-937c-187ae034aef2",
   "metadata": {},
   "outputs": [
    {
     "name": "stdout",
     "output_type": "stream",
     "text": [
      "नमस्ते मित्र\n"
     ]
    }
   ],
   "source": [
    "from juspy import greet\n",
    "greet.namastey()"
   ]
  },
  {
   "cell_type": "code",
   "execution_count": 4,
   "id": "9b4150d2-8856-4721-9f8a-e6fc91c89e2a",
   "metadata": {},
   "outputs": [
    {
     "name": "stdout",
     "output_type": "stream",
     "text": [
      "[1.1999999999999995, 1.9999999999999996, 3.5999999999999996, 2.8, 4.3999999999999995]\n",
      "RMSE: 0.693\n"
     ]
    }
   ],
   "source": [
    "from juspy.linear_models import LinearRegression\n",
    "\n",
    "# Test simple linear regression\n",
    "dataset = [[1, 1], [2, 3], [4, 3], [3, 2], [5, 5]]\n",
    "rmse = LinearRegression.evaluate_algorithm(dataset, LinearRegression.simple_linear_regression)\n",
    "print('RMSE: %.3f' % (rmse))"
   ]
  },
  {
   "cell_type": "code",
   "execution_count": null,
   "id": "1e5ce5d7-7b75-4b58-92e1-7533e0e8f3ac",
   "metadata": {},
   "outputs": [],
   "source": []
  }
 ],
 "metadata": {
  "kernelspec": {
   "display_name": "Python 3 (ipykernel)",
   "language": "python",
   "name": "python3"
  },
  "language_info": {
   "codemirror_mode": {
    "name": "ipython",
    "version": 3
   },
   "file_extension": ".py",
   "mimetype": "text/x-python",
   "name": "python",
   "nbconvert_exporter": "python",
   "pygments_lexer": "ipython3",
   "version": "3.9.7"
  }
 },
 "nbformat": 4,
 "nbformat_minor": 5
}
