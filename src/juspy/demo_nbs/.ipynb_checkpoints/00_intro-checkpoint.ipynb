{
 "cells": [
  {
   "cell_type": "code",
   "execution_count": 1,
   "id": "ee6957b9-00bf-46a7-8ffc-de2f34921953",
   "metadata": {},
   "outputs": [
    {
     "data": {
      "text/plain": [
       "'0.0.1b6'"
      ]
     },
     "execution_count": 1,
     "metadata": {},
     "output_type": "execute_result"
    }
   ],
   "source": [
    "import juspy\n",
    "juspy.__version__"
   ]
  },
  {
   "cell_type": "code",
   "execution_count": 2,
   "id": "96deb5d2-f0d6-45a7-b2d9-54c7911aa310",
   "metadata": {},
   "outputs": [
    {
     "name": "stdout",
     "output_type": "stream",
     "text": [
      "Hello World!!\n",
      "Namastey Mitra!!\n"
     ]
    }
   ],
   "source": [
    "from juspy import greet\n",
    "print(greet.hello())\n",
    "print(greet.namastey())"
   ]
  },
  {
   "cell_type": "code",
   "execution_count": null,
   "id": "2b3a07d3-c672-4f7e-8060-b24afec3be5a",
   "metadata": {},
   "outputs": [],
   "source": []
  }
 ],
 "metadata": {
  "kernelspec": {
   "display_name": "Python 3 (ipykernel)",
   "language": "python",
   "name": "python3"
  },
  "language_info": {
   "codemirror_mode": {
    "name": "ipython",
    "version": 3
   },
   "file_extension": ".py",
   "mimetype": "text/x-python",
   "name": "python",
   "nbconvert_exporter": "python",
   "pygments_lexer": "ipython3",
   "version": "3.9.7"
  }
 },
 "nbformat": 4,
 "nbformat_minor": 5
}
